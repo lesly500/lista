{
  "nbformat": 4,
  "nbformat_minor": 0,
  "metadata": {
    "colab": {
      "provenance": [],
      "authorship_tag": "ABX9TyMVt7cA6PUpu7aB52ATq/pS",
      "include_colab_link": true
    },
    "kernelspec": {
      "name": "python3",
      "display_name": "Python 3"
    },
    "language_info": {
      "name": "python"
    }
  },
  "cells": [
    {
      "cell_type": "markdown",
      "metadata": {
        "id": "view-in-github",
        "colab_type": "text"
      },
      "source": [
        "<a href=\"https://colab.research.google.com/github/lesly500/lista/blob/main/listas.ipynb\" target=\"_parent\"><img src=\"https://colab.research.google.com/assets/colab-badge.svg\" alt=\"Open In Colab\"/></a>"
      ]
    },
    {
      "cell_type": "markdown",
      "source": [
        "# Listas\n",
        "\n",
        "- Una lista hace referencia a una colccion de datos que pueden ser numeros, cadenas o algun otro tipo.\n",
        "- Son colecciones ordenadas de datos, lo que implica que importa el orden en el cual  se encuentran sus elementos.\n",
        "- El primer elemenos ocupa la posicion 0, el segundo la 1, y asi sucesivamente.\n",
        "-Son mutables: una vez creada la lista, esta puede modificarse, se le pueden agregar o quitar elementos.\n",
        "- En python esta representadas por el tipo ***list*** y para definirlas se utiliza las siguientes sintaxis:\n",
        "``` nombre_lista = [valor1 valor2,...,valorn]```\n",
        "\n",
        "-Los elementos pueden ser de cualquiern tipo, incluso puede haber tipos diferentes n una misma ista.\n",
        "- tambien es posible crear usando el constructor ```list()```"
      ],
      "metadata": {
        "id": "tjqX89KJCj_f"
      }
    },
    {
      "cell_type": "code",
      "execution_count": 3,
      "metadata": {
        "colab": {
          "base_uri": "https://localhost:8080/"
        },
        "collapsed": true,
        "id": "plNkzIeqCfZr",
        "outputId": "38606428-cd1b-4911-d020-85add9bb0852"
      },
      "outputs": [
        {
          "output_type": "stream",
          "name": "stdout",
          "text": [
            "['lunes', 'martes', 'miercoes', 'jueves', 'viernes']\n",
            "['rojo', 'amarillo', 'azul']\n",
            "[205.3, 107.18, 25, 450, 310.89, 170.23, 340]\n",
            "<class 'list'>\n",
            "[0, 2, 4, 6, 8, 10, 12, 14, 16, 18, 20, 22, 24, 26, 28]\n",
            "[29, 27, 25, 23, 21, 19, 17, 15, 13, 11, 9, 7, 5, 3, 1]\n",
            "['l', 'e', 's', 'l', 'y', ' ', 'g', 'a', 'b', 'r', 'i', 'e', 'l', 'a']\n",
            "['lesly', 'gabriela', 'hernandez', 'muñoz']\n"
          ]
        }
      ],
      "source": [
        "# Ejemplo 1\n",
        "\n",
        "#=========================================================\n",
        "# Usando los [] y dando valores para inicializar las lista\n",
        "#==========================================================\n",
        "\n",
        "dias_laborales = [\"lunes\", \"martes\", \"miercoes\", \"jueves\", \"viernes\"]\n",
        "print(dias_laborales)\n",
        "\n",
        "colores_primarios = [\"rojo\", \"amarillo\", \"azul\"]\n",
        "print(colores_primarios)\n",
        "\n",
        "precios = [205.30, 107.18, 25, 450, 310.89, 170.23, 340]\n",
        "\n",
        "print(precios)\n",
        "print(type(precios))\n",
        "mezcolanza = [12, 'octubre', 1492, True]\n",
        "lista_vacia = []\n",
        "\n",
        "\n",
        "lista_vacia_2 = list()\n",
        "lista_3 = list(range(0,30,2))\n",
        "print(lista_3)\n",
        "lista_4 = list(range(29,0,-2))\n",
        "print(lista_4)\n",
        "lista_5 = list('lesly gabriela')\n",
        "print(lista_5)\n",
        "frase = 'lesly gabriela hernandez muñoz'\n",
        "lista_6 = frase.split()\n",
        "print(lista_6)\n"
      ]
    },
    {
      "cell_type": "markdown",
      "source": [
        "## Operaciones\n",
        "\n",
        "### Operador +\n",
        "\n",
        "- Concatenar o pegar los elementos de una lista al final de otra\n",
        "\n",
        "### operador *\n",
        "\n",
        "- Repetir la secuencia de elementos de la lista tantas veces como lo indique el vaor que acompaña el operador"
      ],
      "metadata": {
        "id": "gIhXYo4fRAjQ"
      }
    },
    {
      "cell_type": "code",
      "source": [
        "dias_laborales = [\"lunes\", \"martes\", \"miercoes\", \"jueves\", \"viernes\"]\n",
        "\n",
        "colores_primarios = [\"rojo\", \"amarillo\", \"azul\"]\n",
        "\n",
        "precios = [205.30, 107.18, 25, 450, 310.89, 170.23, 340]\n",
        "\n",
        "# acceso de elementos de una lista\n",
        "\n",
        "print(dias_laborales[0])\n",
        "print(dias_laborales[1])\n",
        "print(dias_laborales[2])\n",
        "print(dias_laborales[3])\n",
        "print(dias_laborales[4])\n"
      ],
      "metadata": {
        "id": "UHaDFqa3Sa5B"
      },
      "execution_count": null,
      "outputs": []
    },
    {
      "cell_type": "markdown",
      "source": [
        "## Funciones asociadas a las listas"
      ],
      "metadata": {
        "id": "B3F6exJ8UJ8T"
      }
    },
    {
      "cell_type": "code",
      "source": [
        "dias_laborales = [\"lunes\", \"martes\", \"miercoes\", \"jueves\", \"viernes\"]\n",
        "\n",
        "colores_primarios = [\"rojo\", \"amarillo\", \"azul\"]\n",
        "\n",
        "precios = [205.30, 107.18, 25, 450, 310.89, 170.23, 340]\n",
        "\n",
        "pares = list(range(0,30,2))\n",
        "\n",
        "impares = list(range(29,0,-2))\n",
        "\n",
        "coles_reptidos = colores_primarios * 3\n",
        "\n",
        "#  append() : agrega un elemento al final de la lista\n",
        "dias_laborales .append(\"Sabado\")\n",
        "print(dias_laborales)\n",
        "# len() : total de elementos de la lista\n",
        "print('total de precios = ' ,len(precios))\n",
        "\n",
        "#count() : cuenta el numero de veces que aparece un elemento en la lista\n",
        "print(f\"El lunes aparece {dias_laborales.count('lunes')} vez(veces)\")\n",
        "\n",
        "# inser(): agrega en posicion indicada por el indice el nuevo valor, dezplazandp los demas elementos hacia la derecha. si el indice es mayor al tamaño de lla lista, lo agrega al final\n",
        "colores_primarios.insert(2, \"verde\")\n",
        "print(colores_primarios)\n",
        "\n",
        "#remove() : quita el elemento de la lista. siel elemento no esta lanza una execepcion.\n",
        " dias_laborales .remove(\" sabado \")\n",
        " print(dias_laborales)\n",
        "\n",
        " # sort(): ordena la lista de menor a mayor\n",
        " precios.sort()\n",
        " print(precios)\n",
        " precios.sort(reverse=True)\n",
        " print(precios)\n",
        "\n",
        " # reverrse():\n",
        "\n",
        " # pop():\n",
        "\n",
        " # clear():\n",
        "\n",
        " # del"
      ],
      "metadata": {
        "colab": {
          "base_uri": "https://localhost:8080/",
          "height": 111
        },
        "id": "dYmlC3cFUWto",
        "outputId": "2f6f6ae5-8c5c-4aec-aea6-ea21862061de"
      },
      "execution_count": 13,
      "outputs": [
        {
          "output_type": "error",
          "ename": "IndentationError",
          "evalue": "unexpected indent (<ipython-input-13-ba94458903ca>, line 27)",
          "traceback": [
            "\u001b[0;36m  File \u001b[0;32m\"<ipython-input-13-ba94458903ca>\"\u001b[0;36m, line \u001b[0;32m27\u001b[0m\n\u001b[0;31m    list:dias_laborales .remove(\" sabado \")\u001b[0m\n\u001b[0m    ^\u001b[0m\n\u001b[0;31mIndentationError\u001b[0m\u001b[0;31m:\u001b[0m unexpected indent\n"
          ]
        }
      ]
    },
    {
      "cell_type": "markdown",
      "source": [
        "## Particion o division de ina ista (slicing o rebanadas)\n",
        "\n",
        "- Se puede generar sublistas a patrir de una lista por medio de la participacion(division) o slicing.\n",
        "-Para obtener una subista se usa la sintaxis:```sublista = lista[inicio:fin:n]```"
      ],
      "metadata": {
        "id": "1uwnqLQgf8kI"
      }
    },
    {
      "cell_type": "code",
      "source": [
        "# se crea una lista de numeros enteros\n",
        "lista_1 = [1,2,3,4,5,6]\n",
        "\n",
        "# sublista con los elementos de las posicions 0 a la 2 inclusive\n",
        "sublista_1 = lista_1[0:3]\n",
        "print(sublista_1)\n",
        "\n",
        "# sublista con los elementos 0 a la 3 inclusive\n",
        "sublista_3 = lista_1[ :4]\n",
        "print(sublista_2)\n",
        "\n",
        "# sublista con los elementos"
      ],
      "metadata": {
        "id": "cJXfrITRf72Q"
      },
      "execution_count": null,
      "outputs": []
    },
    {
      "cell_type": "markdown",
      "source": [
        "## Listas por comprension\n",
        "\n",
        "- son listas creadas por la aplicacion de una operacion a cada uno de los miembros de una secuencia.\n",
        "\n",
        "-sintaxis: ```lista = [operacion for eemento in seuencia]```\n",
        "\n",
        "- la exprecion se escribe entre [] y esta formando oir la operacion que quiere aplicarse a los elementos de la secuencia, seguidas de la instrccion for, que permite la interacion sobrela secencia.\n"
      ],
      "metadata": {
        "id": "z83o7bOTlW7C"
      }
    },
    {
      "cell_type": "code",
      "source": [
        "# A psrtir de una caena de caracteres\n",
        "\n",
        "frace = 'nesticor'\n",
        "lista_mayusculas = [letra.upper() for letra in frase]\n",
        "print(lista_mayusculas)\n",
        "\n",
        "# A partir de tupla\n",
        "tupla = (2,5,8,10)\n",
        "lista_cuadrados = [numeros**2 for numero in tupla]\n",
        "print(lista_cuadrados)\n",
        "\n",
        "# A partir de una lista\n",
        "lista_pares = [2,4,6,8,10]\n",
        "lista_cubos_pares = [par**3 for par in lista_pares]\n",
        "print(lista_cubos_pares)"
      ],
      "metadata": {
        "colab": {
          "base_uri": "https://localhost:8080/",
          "height": 389
        },
        "id": "oXeBOQyJmbJB",
        "outputId": "901b6e66-3d11-4439-d114-e7b442861c70"
      },
      "execution_count": 10,
      "outputs": [
        {
          "output_type": "stream",
          "name": "stdout",
          "text": [
            "['L', 'E', 'S', 'L', 'Y', ' ', 'G', 'A', 'B', 'R', 'I', 'E', 'L', 'A', ' ', 'H', 'E', 'R', 'N', 'A', 'N', 'D', 'E', 'Z', ' ', 'M', 'U', 'Ñ', 'O', 'Z']\n"
          ]
        },
        {
          "output_type": "error",
          "ename": "NameError",
          "evalue": "name 'numeros' is not defined",
          "traceback": [
            "\u001b[0;31m---------------------------------------------------------------------------\u001b[0m",
            "\u001b[0;31mNameError\u001b[0m                                 Traceback (most recent call last)",
            "\u001b[0;32m<ipython-input-10-4c3f59afb845>\u001b[0m in \u001b[0;36m<cell line: 0>\u001b[0;34m()\u001b[0m\n\u001b[1;32m      7\u001b[0m \u001b[0;31m# A partir de tupla\u001b[0m\u001b[0;34m\u001b[0m\u001b[0;34m\u001b[0m\u001b[0m\n\u001b[1;32m      8\u001b[0m \u001b[0mtupla\u001b[0m \u001b[0;34m=\u001b[0m \u001b[0;34m(\u001b[0m\u001b[0;36m2\u001b[0m\u001b[0;34m,\u001b[0m\u001b[0;36m5\u001b[0m\u001b[0;34m,\u001b[0m\u001b[0;36m8\u001b[0m\u001b[0;34m,\u001b[0m\u001b[0;36m10\u001b[0m\u001b[0;34m)\u001b[0m\u001b[0;34m\u001b[0m\u001b[0;34m\u001b[0m\u001b[0m\n\u001b[0;32m----> 9\u001b[0;31m \u001b[0mlista_cuadrados\u001b[0m \u001b[0;34m=\u001b[0m \u001b[0;34m[\u001b[0m\u001b[0mnumeros\u001b[0m\u001b[0;34m**\u001b[0m\u001b[0;36m2\u001b[0m \u001b[0;32mfor\u001b[0m \u001b[0mnumero\u001b[0m \u001b[0;32min\u001b[0m \u001b[0mtupla\u001b[0m\u001b[0;34m]\u001b[0m\u001b[0;34m\u001b[0m\u001b[0;34m\u001b[0m\u001b[0m\n\u001b[0m\u001b[1;32m     10\u001b[0m \u001b[0mprint\u001b[0m\u001b[0;34m(\u001b[0m\u001b[0mlista_cuadrados\u001b[0m\u001b[0;34m)\u001b[0m\u001b[0;34m\u001b[0m\u001b[0;34m\u001b[0m\u001b[0m\n\u001b[1;32m     11\u001b[0m \u001b[0;34m\u001b[0m\u001b[0m\n",
            "\u001b[0;32m<ipython-input-10-4c3f59afb845>\u001b[0m in \u001b[0;36m<listcomp>\u001b[0;34m(.0)\u001b[0m\n\u001b[1;32m      7\u001b[0m \u001b[0;31m# A partir de tupla\u001b[0m\u001b[0;34m\u001b[0m\u001b[0;34m\u001b[0m\u001b[0m\n\u001b[1;32m      8\u001b[0m \u001b[0mtupla\u001b[0m \u001b[0;34m=\u001b[0m \u001b[0;34m(\u001b[0m\u001b[0;36m2\u001b[0m\u001b[0;34m,\u001b[0m\u001b[0;36m5\u001b[0m\u001b[0;34m,\u001b[0m\u001b[0;36m8\u001b[0m\u001b[0;34m,\u001b[0m\u001b[0;36m10\u001b[0m\u001b[0;34m)\u001b[0m\u001b[0;34m\u001b[0m\u001b[0;34m\u001b[0m\u001b[0m\n\u001b[0;32m----> 9\u001b[0;31m \u001b[0mlista_cuadrados\u001b[0m \u001b[0;34m=\u001b[0m \u001b[0;34m[\u001b[0m\u001b[0mnumeros\u001b[0m\u001b[0;34m**\u001b[0m\u001b[0;36m2\u001b[0m \u001b[0;32mfor\u001b[0m \u001b[0mnumero\u001b[0m \u001b[0;32min\u001b[0m \u001b[0mtupla\u001b[0m\u001b[0;34m]\u001b[0m\u001b[0;34m\u001b[0m\u001b[0;34m\u001b[0m\u001b[0m\n\u001b[0m\u001b[1;32m     10\u001b[0m \u001b[0mprint\u001b[0m\u001b[0;34m(\u001b[0m\u001b[0mlista_cuadrados\u001b[0m\u001b[0;34m)\u001b[0m\u001b[0;34m\u001b[0m\u001b[0;34m\u001b[0m\u001b[0m\n\u001b[1;32m     11\u001b[0m \u001b[0;34m\u001b[0m\u001b[0m\n",
            "\u001b[0;31mNameError\u001b[0m: name 'numeros' is not defined"
          ]
        }
      ]
    }
  ]
}